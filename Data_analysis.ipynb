{
 "cells": [
  {
   "cell_type": "markdown",
   "id": "9fa4b33d",
   "metadata": {},
   "source": [
    "### Detalii de abordare"
   ]
  },
  {
   "cell_type": "markdown",
   "id": "cfe3fda9",
   "metadata": {},
   "source": [
    "https://towardsdatascience.com/graph-laplacian-and-its-application-in-machine-learning-7d9aab021d16\n",
    "\n",
    "https://towardsdatascience.com/spectral-clustering-aba2640c0d5b\n",
    "\n",
    "Pride\n",
    "Elation\n",
    "Joy\n",
    "Satisfaction\n",
    "Relief\n",
    "Hope\n",
    "Interest\n",
    "Surprise\n",
    "Sadness\n",
    "Fear\n",
    "Shame\n",
    "Guilt\n",
    "Envy\n",
    "Disgust\n",
    "Contempt\n",
    "Anger\n",
    "\n",
    "\n",
    "\n",
    "The participant ratings, physiological recordings and face video of an experiment where 32 volunteers watched a subset of 40 of the above music videos. EEG and physiological signals were recorded and each participant also rated the videos as above. For 22 participants frontal face video was also recorded.\n",
    "\n",
    "63 secunde semnal\n",
    "\n"
   ]
  },
  {
   "cell_type": "markdown",
   "id": "bdc047a8",
   "metadata": {},
   "source": [
    "1) Starile emotionale sunt marcate in doua formate: numere intregi de la 1-9 si numere de la 1-9 pe interval continuu\n",
    "2) Normalizarea labelurilor cu toate datele acestuia ( informatiile de la toti subiectii)\n"
   ]
  },
  {
   "cell_type": "code",
   "execution_count": 1,
   "id": "8220e01f",
   "metadata": {},
   "outputs": [],
   "source": [
    "import numpy as np\n",
    "import _pickle as cPickle\n",
    "import matplotlib.pyplot as plt"
   ]
  },
  {
   "cell_type": "code",
   "execution_count": 2,
   "id": "4f88fcdd",
   "metadata": {},
   "outputs": [],
   "source": [
    "with open('data/s01.dat', 'rb') as f:\n",
    "     data = cPickle.load(f, encoding='latin1')"
   ]
  },
  {
   "cell_type": "code",
   "execution_count": 3,
   "id": "3dc15d7a",
   "metadata": {},
   "outputs": [
    {
     "data": {
      "text/plain": [
       "(40, 8064)"
      ]
     },
     "execution_count": 3,
     "metadata": {},
     "output_type": "execute_result"
    }
   ],
   "source": [
    "data['data'][0].shape"
   ]
  },
  {
   "cell_type": "code",
   "execution_count": 4,
   "id": "7c296ee0",
   "metadata": {},
   "outputs": [],
   "source": [
    "corr_matrix = np.corrcoef(data['data'][0][:32, :])"
   ]
  },
  {
   "cell_type": "code",
   "execution_count": 5,
   "id": "d7b2713b",
   "metadata": {},
   "outputs": [
    {
     "data": {
      "text/plain": [
       "{'labels': array([[7.71, 7.6 , 6.9 , 7.83],\n",
       "        [8.1 , 7.31, 7.28, 8.47],\n",
       "        [8.58, 7.54, 9.  , 7.08],\n",
       "        [4.94, 6.01, 6.12, 8.06],\n",
       "        [6.96, 3.92, 7.19, 6.05],\n",
       "        [8.27, 3.92, 7.  , 8.03],\n",
       "        [7.44, 3.73, 7.08, 7.04],\n",
       "        [7.32, 2.55, 6.32, 5.87],\n",
       "        [4.04, 3.29, 3.62, 5.99],\n",
       "        [1.99, 4.86, 2.04, 7.09],\n",
       "        [2.99, 2.36, 3.63, 6.24],\n",
       "        [2.71, 2.77, 3.4 , 7.35],\n",
       "        [1.95, 3.12, 2.87, 6.18],\n",
       "        [4.18, 2.24, 3.04, 5.04],\n",
       "        [3.17, 8.08, 2.91, 5.04],\n",
       "        [6.81, 7.44, 8.15, 7.14],\n",
       "        [2.46, 6.91, 6.77, 6.41],\n",
       "        [7.23, 7.15, 6.94, 8.01],\n",
       "        [7.17, 8.  , 8.1 , 6.79],\n",
       "        [8.26, 7.91, 7.19, 8.13],\n",
       "        [9.  , 7.95, 8.37, 7.86],\n",
       "        [7.09, 2.08, 7.06, 7.37],\n",
       "        [8.15, 3.01, 7.37, 7.9 ],\n",
       "        [7.04, 7.09, 8.01, 8.22],\n",
       "        [8.86, 7.21, 8.65, 7.21],\n",
       "        [7.28, 7.27, 7.41, 8.24],\n",
       "        [7.35, 6.95, 7.03, 7.29],\n",
       "        [3.88, 3.35, 4.01, 7.87],\n",
       "        [1.36, 2.27, 3.  , 8.14],\n",
       "        [2.08, 2.99, 3.22, 7.33],\n",
       "        [3.03, 8.14, 2.86, 8.04],\n",
       "        [2.28, 8.  , 3.27, 3.95],\n",
       "        [3.81, 3.85, 4.78, 5.13],\n",
       "        [2.28, 7.09, 7.28, 6.92],\n",
       "        [2.06, 8.15, 8.05, 5.18],\n",
       "        [2.9 , 6.92, 6.5 , 3.87],\n",
       "        [2.31, 6.88, 3.1 , 6.77],\n",
       "        [3.33, 7.18, 6.54, 6.62],\n",
       "        [3.24, 6.18, 7.87, 6.15],\n",
       "        [5.1 , 7.12, 6.17, 5.97]]),\n",
       " 'data': array([[[ 9.48231681e-01,  1.65333533e+00,  3.01372577e+00, ...,\n",
       "          -2.82648937e+00, -4.47722969e+00, -3.67692812e+00],\n",
       "         [ 1.24706590e-01,  1.39008270e+00,  1.83509881e+00, ...,\n",
       "          -2.98702069e+00, -6.28780884e+00, -4.47429041e+00],\n",
       "         [-2.21651099e+00,  2.29201682e+00,  2.74636923e+00, ...,\n",
       "          -2.63707760e+00, -7.40651010e+00, -6.75590441e+00],\n",
       "         ...,\n",
       "         [ 2.30779684e+02,  6.96716323e+02,  1.19512165e+03, ...,\n",
       "           1.01080949e+03,  1.28312149e+03,  1.51996480e+03],\n",
       "         [-1.54180981e+03, -1.61798052e+03, -1.69268642e+03, ...,\n",
       "          -1.57842691e+04, -1.57823160e+04, -1.57808512e+04],\n",
       "         [ 6.39054310e-03,  6.39054310e-03,  6.39054310e-03, ...,\n",
       "          -9.76081241e-02, -9.76081241e-02, -9.76081241e-02]],\n",
       " \n",
       "        [[ 1.02601750e+01,  1.27954427e+01,  1.04261916e+01, ...,\n",
       "           6.02219406e+00,  7.53913583e+00,  9.35224904e+00],\n",
       "         [ 9.49186875e+00,  1.25897704e+01,  1.05740268e+01, ...,\n",
       "           6.03399490e+00,  9.06874552e+00,  8.74021419e+00],\n",
       "         [ 7.12867480e+00,  1.22064700e+01,  9.49646701e+00, ...,\n",
       "           6.17971667e+00,  6.93374514e+00,  6.48086477e+00],\n",
       "         ...,\n",
       "         [ 1.91950410e+03,  3.51250116e+03,  3.67262586e+03, ...,\n",
       "          -1.62148301e+02, -3.66241674e+02, -4.51866515e+02],\n",
       "         [-7.42916132e+03, -7.50972650e+03, -7.57076073e+03, ...,\n",
       "          -5.49462041e+03, -5.59081036e+03, -5.69139477e+03],\n",
       "         [ 5.98429831e-03,  5.98429831e-03,  5.98429831e-03, ...,\n",
       "          -6.20148303e-02, -6.20148303e-02, -6.20148303e-02]],\n",
       " \n",
       "        [[ 1.01304956e+00, -1.06783230e+00,  3.90824949e+00, ...,\n",
       "           2.18687657e+00,  2.66767712e-02, -7.51193325e+00],\n",
       "         [ 3.31725539e-02, -1.51860504e+00,  4.81957628e+00, ...,\n",
       "           3.98227619e-01, -1.06766739e+00, -5.90302866e+00],\n",
       "         [ 7.22816236e-01,  5.12160665e-01,  8.04440282e+00, ...,\n",
       "           9.66963103e-02,  2.20454025e-01, -4.36041903e+00],\n",
       "         ...,\n",
       "         [-2.14800222e+01, -2.61792078e+02, -1.01386125e+02, ...,\n",
       "           2.58992140e+03,  1.61176696e+03,  7.66674772e+02],\n",
       "         [ 1.16210735e+04,  1.14355295e+04,  1.12646336e+04, ...,\n",
       "           2.76134490e+03,  2.67687353e+03,  2.60314418e+03],\n",
       "         [ 2.90621276e-03,  2.90621276e-03,  2.90621276e-03, ...,\n",
       "          -1.51091814e-01, -1.51091814e-01, -1.51091814e-01]],\n",
       " \n",
       "        ...,\n",
       " \n",
       "        [[-1.13944132e+01, -1.34502274e+01, -9.66299865e+00, ...,\n",
       "          -2.43900889e+00, -2.33095827e+00, -3.36814485e+00],\n",
       "         [-9.19759768e+00, -1.04656392e+01, -6.56847604e+00, ...,\n",
       "          -3.51219647e+00, -2.91042815e+00, -2.82260677e+00],\n",
       "         [-8.61617511e+00, -1.00405069e+01, -6.40832041e+00, ...,\n",
       "          -4.15937090e+00, -4.30358260e+00, -2.69228055e+00],\n",
       "         ...,\n",
       "         [ 1.33536977e+03,  1.18468254e+03,  9.23995526e+02, ...,\n",
       "           9.61057957e+02,  5.48652469e+02,  1.16462008e+03],\n",
       "         [-3.84721885e+03, -3.90385861e+03, -3.96391629e+03, ...,\n",
       "           2.21035586e+04,  2.19683067e+04,  2.18359845e+04],\n",
       "         [ 1.74997757e-03,  1.74997757e-03,  1.74997757e-03, ...,\n",
       "           4.67494009e-02,  4.67494009e-02,  4.67494009e-02]],\n",
       " \n",
       "        [[ 2.53187763e+00,  1.58111089e-01, -4.67449746e+00, ...,\n",
       "           3.13209243e+00,  4.65647663e-01,  1.85004049e+00],\n",
       "         [ 6.21303506e+00,  1.60022210e+00, -4.68115214e+00, ...,\n",
       "           3.09468204e+00, -4.47081977e-01,  7.07338119e-01],\n",
       "         [ 7.13694330e+00,  4.83688756e+00, -2.90448250e+00, ...,\n",
       "           8.47561300e-02, -7.15406930e-02, -8.34269599e-01],\n",
       "         ...,\n",
       "         [-1.72646702e+03, -1.77037319e+03, -1.74206075e+03, ...,\n",
       "          -1.37621767e+03, -1.46368626e+03, -1.39456139e+03],\n",
       "         [ 7.78738138e+03,  7.87087621e+03,  7.88894234e+03, ...,\n",
       "           1.77575401e+03,  1.77087127e+03,  1.76891817e+03],\n",
       "         [ 1.30206665e-03,  2.30205383e-03,  2.30205383e-03, ...,\n",
       "          -1.06977796e-02, -1.06977796e-02, -1.06977796e-02]],\n",
       " \n",
       "        [[ 3.08300605e+00,  6.27214597e-01, -3.40256017e+00, ...,\n",
       "          -4.43802092e+00, -3.27103236e+00,  2.13500861e+00],\n",
       "         [-2.73052705e-01, -2.20023500e-01, -3.81054293e+00, ...,\n",
       "          -3.75791147e+00, -3.31224301e+00,  1.15426073e+00],\n",
       "         [-1.72910530e+00,  1.73630179e+00, -1.14991197e-01, ...,\n",
       "          -2.94468621e+00, -5.71142735e+00, -1.69792350e+00],\n",
       "         ...,\n",
       "         [-1.17067329e+02,  2.14775808e+02,  6.61994220e+00, ...,\n",
       "          -1.10328426e+03, -1.11556548e+03, -1.07090932e+03],\n",
       "         [-7.16243920e+03, -7.22005551e+03, -7.17659914e+03, ...,\n",
       "           4.80999311e+02,  3.31587520e+02,  1.82175728e+02],\n",
       "         [ 4.24473727e-04,  4.24473727e-04,  4.24473727e-04, ...,\n",
       "           1.86422090e-01,  1.86422090e-01,  1.86422090e-01]]])}"
      ]
     },
     "execution_count": 5,
     "metadata": {},
     "output_type": "execute_result"
    }
   ],
   "source": [
    "data"
   ]
  },
  {
   "cell_type": "code",
   "execution_count": 6,
   "id": "45bb786d",
   "metadata": {},
   "outputs": [],
   "source": [
    "corr_matrix = np.abs(corr_matrix)"
   ]
  },
  {
   "cell_type": "code",
   "execution_count": 10,
   "id": "c2780868",
   "metadata": {},
   "outputs": [],
   "source": [
    "adj_matrix = corr_matrix - np.identity(corr_matrix.shape[0])"
   ]
  },
  {
   "cell_type": "code",
   "execution_count": 11,
   "id": "dda03e6f",
   "metadata": {},
   "outputs": [
    {
     "data": {
      "image/png": "[encoded data removed]",
      "text/plain": [
       "<Figure size 288x288 with 1 Axes>"
      ]
     },
     "metadata": {
      "needs_background": "light"
     },
     "output_type": "display_data"
    }
   ],
   "source": [
    "plt.matshow(adj_matrix)\n",
    "plt.show()"
   ]
  },
  {
   "cell_type": "code",
   "execution_count": 7,
   "id": "56c176ba",
   "metadata": {},
   "outputs": [
    {
     "data": {
      "image/png": "[encoded data removed]",
      "text/plain": [
       "<Figure size 288x288 with 1 Axes>"
      ]
     },
     "metadata": {
      "needs_background": "light"
     },
     "output_type": "display_data"
    }
   ],
   "source": [
    "plt.matshow(corr_matrix)\n",
    "plt.show()"
   ]
  },
  {
   "cell_type": "code",
   "execution_count": 12,
   "id": "f99977e2",
   "metadata": {},
   "outputs": [],
   "source": [
    "# L = D-W\n",
    "# D: Degree matrix\n",
    "# W: Similarity graph\n",
    "    \n",
    "degree_matrix = adj_matrix.sum(axis=1)\n",
    "diagonal_matrix = np.diag(degree_matrix)\n",
    "L =  diagonal_matrix - corr_matrix"
   ]
  },
  {
   "cell_type": "code",
   "execution_count": 13,
   "id": "965424b5",
   "metadata": {},
   "outputs": [
    {
     "data": {
      "image/png": "[encoded data removed]",
      "text/plain": [
       "<Figure size 288x288 with 1 Axes>"
      ]
     },
     "metadata": {
      "needs_background": "light"
     },
     "output_type": "display_data"
    }
   ],
   "source": [
    "plt.matshow(L)\n",
    "plt.show()"
   ]
  },
  {
   "cell_type": "code",
   "execution_count": 18,
   "id": "2f85b863",
   "metadata": {},
   "outputs": [
    {
     "data": {
      "text/plain": [
       "(1, 32, 32)"
      ]
     },
     "execution_count": 18,
     "metadata": {},
     "output_type": "execute_result"
    }
   ],
   "source": [
    "np.expand_dims(L, axis=0).shape"
   ]
  },
  {
   "cell_type": "code",
   "execution_count": 24,
   "id": "bcef728c",
   "metadata": {},
   "outputs": [],
   "source": [
    "eigen_values, eigen_vectors = np.linalg.eig(L)"
   ]
  },
  {
   "cell_type": "code",
   "execution_count": 33,
   "id": "3e2fd5ad",
   "metadata": {},
   "outputs": [
    {
     "data": {
      "text/plain": [
       "[<matplotlib.lines.Line2D at 0x26cc1001730>]"
      ]
     },
     "execution_count": 33,
     "metadata": {},
     "output_type": "execute_result"
    },
    {
     "data": {
      "image/png": "[encoded data removed]",
      "text/plain": [
       "<Figure size 432x288 with 1 Axes>"
      ]
     },
     "metadata": {
      "needs_background": "light"
     },
     "output_type": "display_data"
    }
   ],
   "source": [
    "plt.plot(sorted(eigen_vectors[1]))"
   ]
  }
 ],
 "metadata": {
  "kernelspec": {
   "display_name": "Python 3",
   "language": "python",
   "name": "python3"
  },
  "language_info": {
   "codemirror_mode": {
    "name": "ipython",
    "version": 3
   },
   "file_extension": ".py",
   "mimetype": "text/x-python",
   "name": "python",
   "nbconvert_exporter": "python",
   "pygments_lexer": "ipython3",
   "version": "3.8.0"
  }
 },
 "nbformat": 4,
 "nbformat_minor": 5
}
